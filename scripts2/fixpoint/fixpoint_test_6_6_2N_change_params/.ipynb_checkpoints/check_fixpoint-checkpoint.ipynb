{
 "cells": [
  {
   "cell_type": "markdown",
   "metadata": {},
   "source": [
    "Check fixed points"
   ]
  },
  {
   "cell_type": "code",
   "execution_count": 4,
   "metadata": {},
   "outputs": [],
   "source": [
    "# System\n",
    "import logging\n",
    "import time\n",
    "import os\n",
    "import pickle\n",
    "# Math\n",
    "import math\n",
    "import scipy as sp\n",
    "import numpy as np\n",
    "import scipy.linalg as lin\n",
    "import scipy.optimize as opt\n",
    "import pandas as pd\n",
    "# Visualization\n",
    "%matplotlib inline \n",
    "import matplotlib.pyplot as plt\n",
    "# Various\n",
    "# My packages\n",
    "import carpet\n",
    "from carpet import rms, circ_dist, order_parameter # root mean square\n",
    "import carpet.visualize as vis\n",
    "import carpet.lattice.triangular as lattice\n",
    "import carpet.physics.friction_pairwise as physics\n",
    "\n",
    "import carpet.classes as cc\n",
    "import carpet.parallel_with_threads as pwt # to find fixpoints faster"
   ]
  },
  {
   "cell_type": "code",
   "execution_count": 11,
   "metadata": {},
   "outputs": [],
   "source": [
    "import logging\n",
    "import os\n",
    "\n",
    "shortname = '.' # RENAME THIS FOR A NEW NOTEBOOK\n",
    "objfolder = '.'\n",
    "## Setup logging\n",
    "\n",
    "\n",
    "def dump_object(obj, filename, path=objfolder):\n",
    "    filename = os.path.join(path, filename)\n",
    "    print(filename)\n",
    "    with open(filename, 'wb') as f:\n",
    "        pickle.dump(obj, f, pickle.HIGHEST_PROTOCOL)\n",
    "\n",
    "def load_object(filename, path=objfolder):\n",
    "    filename = os.path.join(path, filename)\n",
    "    with open(filename, 'rb') as f:\n",
    "        obj = pickle.load(f)      \n",
    "    return obj"
   ]
  },
  {
   "cell_type": "code",
   "execution_count": 5,
   "metadata": {},
   "outputs": [],
   "source": [
    "# Physics\n",
    "set_name = 'machemer_1' # which hydrodynamic coefficients to use\n",
    "order_g11 = (8,0)\n",
    "order_g12 = (4,4)\n",
    "period = 31.25            # [ms] period of cilia beat\n",
    "freq = 2 * np.pi / period # [rad/ms] angular frequency\n",
    "\n",
    "# Geometry\n",
    "nx = 6\n",
    "ny = 6  # even number\n",
    "N = nx * ny\n",
    "a = 18  # [um] lattice spacing\n",
    "\n",
    "## Initialize\n",
    "# Geometry\n",
    "\n",
    "L1,L2 = lattice.get_domain_sizes(nx,ny ,a)\n",
    "coords, lattice_ids = lattice.get_nodes_and_ids(nx, ny, a)  # get cilia (nodes) coordinates\n",
    "\n",
    "distances = [1]\n",
    "NN, TT = lattice.get_neighbours_list(coords, nx, ny, a, distances)\n",
    "e1, e2 = lattice.get_basis()\n",
    "get_k = lattice.define_get_k(nx, ny, a)\n",
    "get_mtwist = lattice.define_get_mtwist(coords, nx, ny, a)\n",
    "\n",
    "# Physics\n",
    "gmat_glob, q_glob = physics.define_gmat_glob_and_q_glob(set_name, e1, e2, a, NN, TT, order_g11, order_g12, period,\n",
    "                                                        use_numba=False)\n",
    "right_side_of_ODE = physics.define_right_side_of_ODE(gmat_glob, q_glob)\n",
    "solve_cycle = carpet.define_solve_cycle(right_side_of_ODE, 2 * period, phi_global_func=carpet.get_mean_phase)\n",
    "\n",
    "# Define solve_cycle assuming symmetry classes - used to find fixed points faster.\n",
    "def define_solve_cycle_class(NN_class, TT_class):\n",
    "    gmat_glob_class, q_glob_class = physics.define_gmat_glob_and_q_glob(set_name, e1, e2, a, NN_class, TT_class,\n",
    "                                                                        order_g11, order_g12, period, use_numba=False)\n",
    "    right_side_of_ODE_class = physics.define_right_side_of_ODE(gmat_glob_class, q_glob_class)\n",
    "    return     carpet.define_solve_cycle(right_side_of_ODE_class, 2 * period,\n",
    "                              phi_global_func=carpet.get_mean_phase)"
   ]
  },
  {
   "cell_type": "code",
   "execution_count": 12,
   "metadata": {},
   "outputs": [
    {
     "name": "stdout",
     "output_type": "stream",
     "text": [
      ".\\fixpoint_dict_nx=6_ny=6_tol=1.000E-08.pkl\n"
     ]
    }
   ],
   "source": [
    "# Merge\n",
    "# ## Combine results\n",
    "fixpoint_dict = {} # Dictionary with eigenvalues, corresponding to each of m-twists\n",
    "script_path = '.' # \n",
    "\n",
    "for k1,k2 in [(k1,k2) for k1 in range(nx) for k2 in range(ny)]:\n",
    "    filename = \"fixpoint_k1={}_k2={}.pkl\".format(k1,k2)\n",
    "    fixpoint = load_object(filename, script_path)\n",
    "    fixpoint_dict[k1,k2] = fixpoint\n",
    "\n",
    "tol = 10 ** -8\n",
    "filename = 'fixpoint_dict_nx={}_ny={}_tol={:.3E}.pkl'.format(nx,ny,tol)\n",
    "dump_object(fixpoint_dict, filename)"
   ]
  },
  {
   "cell_type": "code",
   "execution_count": 14,
   "metadata": {},
   "outputs": [],
   "source": [
    "# # Load fixpoints\n",
    "# tol = 10 ** -8\n",
    "# filename = 'fixpoint_dict_class_finer.pkl' #'fixpoint_dict_nx={}_ny={}_tol={:.3E}.pkl'.format(nx,ny,tol)\n",
    "# path = 'out/08/'\n",
    "\n",
    "# fixpoint_dict = load_object(filename,path)\n",
    "\n",
    "\n",
    "def get_fixpoint(k1,k2):\n",
    "    return np.array(fixpoint_dict[k1,k2])"
   ]
  },
  {
   "cell_type": "code",
   "execution_count": 15,
   "metadata": {},
   "outputs": [],
   "source": [
    "# Check mean phase\n",
    "# Result: non-zero\n",
    "for k1 in range(nx):\n",
    "    for k2 in range(ny):\n",
    "        fixpoint = get_fixpoint(k1,k2)\n",
    "        diff = carpet.get_mean_phase(fixpoint)\n",
    "        if abs(diff) > 10 ** -6:\n",
    "            print(k1,k2, diff)"
   ]
  },
  {
   "cell_type": "code",
   "execution_count": 16,
   "metadata": {},
   "outputs": [
    {
     "name": "stdout",
     "output_type": "stream",
     "text": [
      "Printed wave modes where phase slips occured in the procedure. Others - OK\n"
     ]
    }
   ],
   "source": [
    "# Check for phase slips\n",
    "for k1 in range(nx):\n",
    "    for k2 in range(ny):\n",
    "        flag = False\n",
    "        fixpoint = get_fixpoint(k1,k2)\n",
    "        for phii in fixpoint:\n",
    "            if abs(phii) >  np.pi: # 2 *\n",
    "                flag = True            \n",
    "        if flag == True:\n",
    "            print(k1,k2, True)\n",
    "print(\"Printed wave modes where phase slips occured in the procedure. Others - OK\")"
   ]
  },
  {
   "cell_type": "code",
   "execution_count": 17,
   "metadata": {},
   "outputs": [],
   "source": [
    "tol_extra = 10 ** -10\n",
    "\n",
    "k1s = range(nx)\n",
    "k2s = range(ny)\n",
    "diffs = []\n",
    "for k1 in k1s:\n",
    "    for k2 in k2s:\n",
    "        fp = get_fixpoint(k1,k2)\n",
    "        sol = solve_cycle(fp, tol_extra)\n",
    "        fp_image = sol.y.T[-1]\n",
    "        diff = carpet.rms(fp - fp_image + 2 * np.pi)\n",
    "        diffs.append(diff)"
   ]
  },
  {
   "cell_type": "code",
   "execution_count": 18,
   "metadata": {},
   "outputs": [
    {
     "data": {
      "image/png": "[encoded data removed]",
      "text/plain": [
       "<Figure size 432x288 with 1 Axes>"
      ]
     },
     "metadata": {
      "needs_background": "light"
     },
     "output_type": "display_data"
    }
   ],
   "source": [
    "plt.plot(range(N), sorted(diffs), 'o', label='k1={}'.format(k1))\n",
    "plt.title(\"Difference between image and preimage\")\n",
    "plt.yscale('log')\n",
    "plt.xlabel('ix')\n",
    "plt.ylabel('diff')\n",
    "plt.show()"
   ]
  },
  {
   "cell_type": "markdown",
   "metadata": {},
   "source": [
    "Fixed points are OK"
   ]
  },
  {
   "cell_type": "code",
   "execution_count": null,
   "metadata": {},
   "outputs": [],
   "source": []
  }
 ],
 "metadata": {
  "kernelspec": {
   "display_name": "Python 3",
   "language": "python",
   "name": "python3"
  },
  "language_info": {
   "codemirror_mode": {
    "name": "ipython",
    "version": 3
   },
   "file_extension": ".py",
   "mimetype": "text/x-python",
   "name": "python",
   "nbconvert_exporter": "python",
   "pygments_lexer": "ipython3",
   "version": "3.7.5"
  }
 },
 "nbformat": 4,
 "nbformat_minor": 4
}
